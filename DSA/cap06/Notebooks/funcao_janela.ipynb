{
  "nbformat": 4,
  "nbformat_minor": 0,
  "metadata": {
    "colab": {
      "provenance": [],
      "authorship_tag": "ABX9TyM6MSuRMNyrcSuC4uJcRvIb",
      "include_colab_link": true
    },
    "kernelspec": {
      "name": "python3",
      "display_name": "Python 3"
    },
    "language_info": {
      "name": "python"
    }
  },
  "cells": [
    {
      "cell_type": "markdown",
      "metadata": {
        "id": "view-in-github",
        "colab_type": "text"
      },
      "source": [
        "<a href=\"https://colab.research.google.com/github/IgorBarreto/IgorBarreto.github.io/blob/main/DSA/cap06/Notebooks/funcao_janela.ipynb\" target=\"_parent\"><img src=\"https://colab.research.google.com/assets/colab-badge.svg\" alt=\"Open In Colab\"/></a>"
      ]
    },
    {
      "cell_type": "markdown",
      "source": [
        "### Carregue os dados desta meneira\n",
        "\n",
        "\n",
        "```\n",
        "!wget - q https://IgorBarreto.github.io/[caminho do arquivo]\n",
        "```\n",
        "\n",
        "\n"
      ],
      "metadata": {
        "id": "RuEtan7DqtV3"
      }
    },
    {
      "cell_type": "markdown",
      "source": [
        "### configura tamanho da fonte da saida"
      ],
      "metadata": {
        "id": "Ulz0mS-rsE0A"
      }
    },
    {
      "cell_type": "code",
      "execution_count": 100,
      "metadata": {
        "id": "Xm6HVKuvdg-Y",
        "colab": {
          "base_uri": "https://localhost:8080/",
          "height": 17
        },
        "outputId": "819515ee-9079-4a38-d6c0-2b2e7d128286"
      },
      "outputs": [
        {
          "output_type": "display_data",
          "data": {
            "text/plain": [
              "<IPython.core.display.Javascript object>"
            ],
            "application/javascript": [
              "\n",
              "  for (rule of document.styleSheets[0].cssRules){\n",
              "    if (rule.selectorText=='body') {\n",
              "      rule.style.fontSize = '24px'\n",
              "      break\n",
              "    }\n",
              "  }\n",
              "  "
            ]
          },
          "metadata": {}
        }
      ],
      "source": [
        "def increase_font():\n",
        "  from IPython.display import Javascript\n",
        "  display(Javascript('''\n",
        "  for (rule of document.styleSheets[0].cssRules){\n",
        "    if (rule.selectorText=='body') {\n",
        "      rule.style.fontSize = '24px'\n",
        "      break\n",
        "    }\n",
        "  }\n",
        "  '''))\n",
        "get_ipython().events.register('pre_run_cell', increase_font)\n",
        "!pip install pyspark --quiet"
      ]
    },
    {
      "cell_type": "markdown",
      "source": [
        "### Donload dos dados"
      ],
      "metadata": {
        "id": "gnZkSOi2sMfK"
      }
    },
    {
      "cell_type": "code",
      "source": [
        "# download dos dados\n",
        "\n",
        "! wget -q https://IgorBarreto.github.io/DSA/cap06/Datasets/vendas.csv\n",
        "! wget -q https://IgorBarreto.github.io/DSA/cap06/Datasets/2012Q1-capitalbikeshare-tripdata.zip\n",
        "! wget -q https://IgorBarreto.github.io/DSA/cap06/Datasets/2012Q2-capitalbikeshare-tripdata.zip"
      ],
      "metadata": {
        "colab": {
          "base_uri": "https://localhost:8080/",
          "height": 17
        },
        "id": "gEPAUqtCrhFG",
        "outputId": "46369105-9671-4883-e4bd-9e5049936fed"
      },
      "execution_count": 101,
      "outputs": [
        {
          "output_type": "display_data",
          "data": {
            "text/plain": [
              "<IPython.core.display.Javascript object>"
            ],
            "application/javascript": [
              "\n",
              "  for (rule of document.styleSheets[0].cssRules){\n",
              "    if (rule.selectorText=='body') {\n",
              "      rule.style.fontSize = '24px'\n",
              "      break\n",
              "    }\n",
              "  }\n",
              "  "
            ]
          },
          "metadata": {}
        },
        {
          "output_type": "display_data",
          "data": {
            "text/plain": [
              "<IPython.core.display.Javascript object>"
            ],
            "application/javascript": [
              "\n",
              "  for (rule of document.styleSheets[0].cssRules){\n",
              "    if (rule.selectorText=='body') {\n",
              "      rule.style.fontSize = '24px'\n",
              "      break\n",
              "    }\n",
              "  }\n",
              "  "
            ]
          },
          "metadata": {}
        }
      ]
    },
    {
      "cell_type": "markdown",
      "source": [
        "### Cria spark session"
      ],
      "metadata": {
        "id": "7Lz0KL6WsRvh"
      }
    },
    {
      "cell_type": "code",
      "source": [
        "import pyspark\n",
        "import zipfile\n",
        "from pyspark.sql import SparkSession\n",
        "spark = SparkSession\\\n",
        "  .builder\\\n",
        "  .appName('Sql spark')\\\n",
        "  .getOrCreate()"
      ],
      "metadata": {
        "colab": {
          "base_uri": "https://localhost:8080/",
          "height": 17
        },
        "id": "ZpBWXSuSmq0H",
        "outputId": "01007bc8-0404-4c39-e017-dde5e2657271"
      },
      "execution_count": 102,
      "outputs": [
        {
          "output_type": "display_data",
          "data": {
            "text/plain": [
              "<IPython.core.display.Javascript object>"
            ],
            "application/javascript": [
              "\n",
              "  for (rule of document.styleSheets[0].cssRules){\n",
              "    if (rule.selectorText=='body') {\n",
              "      rule.style.fontSize = '24px'\n",
              "      break\n",
              "    }\n",
              "  }\n",
              "  "
            ]
          },
          "metadata": {}
        },
        {
          "output_type": "display_data",
          "data": {
            "text/plain": [
              "<IPython.core.display.Javascript object>"
            ],
            "application/javascript": [
              "\n",
              "  for (rule of document.styleSheets[0].cssRules){\n",
              "    if (rule.selectorText=='body') {\n",
              "      rule.style.fontSize = '24px'\n",
              "      break\n",
              "    }\n",
              "  }\n",
              "  "
            ]
          },
          "metadata": {}
        }
      ]
    },
    {
      "cell_type": "markdown",
      "source": [
        "### Carrega dados"
      ],
      "metadata": {
        "id": "8eipRtnbsVcs"
      }
    },
    {
      "cell_type": "code",
      "source": [
        "arq= ['/content/2012Q1-capitalbikeshare-tripdata.zip','/content/2012Q2-capitalbikeshare-tripdata.zip']\n",
        "for a in arq:\n",
        "  with zipfile.ZipFile(a) as zip_ref:\n",
        "    zip_ref.extractall()\n",
        "\n",
        "tabelas = {'vendas':'vendas.csv',\n",
        "          'bicicletas_temp':'2012Q1-capitalbikeshare-tripdata.csv',\n",
        "          'bicicletas_temp2':'2012Q2-capitalbikeshare-tripdata.csv'}\n",
        "for k, v in tabelas.items():\n",
        "  df=spark.read.csv(v,header=True,inferSchema=True,sep=\",\")\n",
        "  df.createOrReplaceTempView(k)\n",
        "spark.sql(\n",
        "    \"\"\"\n",
        "SELECT\n",
        "  Duration duracao_segundos,\n",
        "  `Start date` data_inicio,\n",
        "  `End date` data_fim,\n",
        "  `Start station number` numero_estacao_inicio,\n",
        "  `Start station` estacao_inicio,\n",
        "  `End station number` numero_estacao_fim,\n",
        "  `End station` estacao_fim,\n",
        "  `Bike number` numero_bicicleta,\n",
        "  `Member type` tipo_membro\n",
        "FROM bicicletas_temp\n",
        "    \"\"\").createOrReplaceTempView('bicicletas')\n",
        "\n",
        "spark.sql(\n",
        "    \"\"\"\n",
        "SELECT\n",
        "  Duration duracao_segundos,\n",
        "  `Start date` data_inicio,\n",
        "  `End date` data_fim,\n",
        "  `Start station number` numero_estacao_inicio,\n",
        "  `Start station` estacao_inicio,\n",
        "  `End station number` numero_estacao_fim,\n",
        "  `End station` estacao_fim,\n",
        "  `Bike number` numero_bicicleta,\n",
        "  `Member type` tipo_membro\n",
        "FROM bicicletas_temp2\n",
        "    \"\"\").createOrReplaceTempView('bicicletas2')"
      ],
      "metadata": {
        "id": "TXRTmaZgdu5k",
        "colab": {
          "base_uri": "https://localhost:8080/",
          "height": 17
        },
        "outputId": "496bcda8-1f4d-44f5-f603-866bba2cc79f"
      },
      "execution_count": 148,
      "outputs": [
        {
          "output_type": "display_data",
          "data": {
            "text/plain": [
              "<IPython.core.display.Javascript object>"
            ],
            "application/javascript": [
              "\n",
              "  for (rule of document.styleSheets[0].cssRules){\n",
              "    if (rule.selectorText=='body') {\n",
              "      rule.style.fontSize = '24px'\n",
              "      break\n",
              "    }\n",
              "  }\n",
              "  "
            ]
          },
          "metadata": {}
        },
        {
          "output_type": "display_data",
          "data": {
            "text/plain": [
              "<IPython.core.display.Javascript object>"
            ],
            "application/javascript": [
              "\n",
              "  for (rule of document.styleSheets[0].cssRules){\n",
              "    if (rule.selectorText=='body') {\n",
              "      rule.style.fontSize = '24px'\n",
              "      break\n",
              "    }\n",
              "  }\n",
              "  "
            ]
          },
          "metadata": {}
        }
      ]
    },
    {
      "cell_type": "code",
      "source": [
        "SQL=\"\"\"select * from vendas\"\"\"\n",
        "spark.sql(SQL).show()"
      ],
      "metadata": {
        "id": "CPrmzkgBt9sp"
      },
      "execution_count": null,
      "outputs": []
    },
    {
      "cell_type": "code",
      "source": [
        "# Total de vendas\n",
        "SQL=\"\"\"\n",
        "select\n",
        "  ano_fiscal,\n",
        "  nome_funcionario,\n",
        "  valor_venda,\n",
        "  sum(valor_venda) over (partition by ano_fiscal) total_venda_ano\n",
        "from vendas\n",
        "order by ano_fiscal\"\"\"\n",
        "spark.sql(SQL).show()"
      ],
      "metadata": {
        "id": "ziYNniUVdtq3"
      },
      "execution_count": null,
      "outputs": []
    },
    {
      "cell_type": "code",
      "source": [
        "# NÃO FAZ SENTIDO\n",
        "SQL=\"\"\"\n",
        "select\n",
        "  ano_fiscal,\n",
        "  nome_funcionario,\n",
        "  valor_venda,\n",
        "  sum(valor_venda) total_venda,\n",
        "  sum(valor_venda) over (partition by ano_fiscal) total_venda_ano\n",
        "from vendas\n",
        "group by valor_venda,ano_fiscal,nome_funcionario,valor_venda\n",
        "order by ano_fiscal\"\"\"\n",
        "spark.sql(SQL).show()"
      ],
      "metadata": {
        "id": "3X22_hfvjNAN"
      },
      "execution_count": null,
      "outputs": []
    },
    {
      "cell_type": "code",
      "source": [
        "#\n",
        "SQL=\"\"\"\n",
        "select\n",
        "  ano_fiscal,\n",
        "  nome_funcionario,\n",
        "  valor_venda,\n",
        "  sum(valor_venda) over (partition by nome_funcionario) total_venda_ano\n",
        "from vendas\n",
        "order by nome_funcionario\"\"\"\n",
        "spark.sql(SQL).show()"
      ],
      "metadata": {
        "id": "8wkUT8qqjM1N"
      },
      "execution_count": null,
      "outputs": []
    },
    {
      "cell_type": "code",
      "source": [
        "# Total de vendas por ano, funcionario e geral\n",
        "SQL=\"\"\"\n",
        "select\n",
        "  ano_fiscal,\n",
        "  nome_funcionario,\n",
        "  valor_venda,\n",
        "  sum(valor_venda) over (partition by ano_fiscal) total_venda_ano,\n",
        "  sum(valor_venda) over () total_venda_total\n",
        "\n",
        "from vendas\n",
        "order by ano_fiscal\"\"\"\n",
        "spark.sql(SQL).show()"
      ],
      "metadata": {
        "id": "PENY1xV6yPYr"
      },
      "execution_count": null,
      "outputs": []
    },
    {
      "cell_type": "code",
      "source": [
        "# Numero de vendas por ano, por funcionario e\n",
        "# número total de vendas em todos os oanos\n",
        "SQL=\"\"\"\n",
        "select\n",
        "  ano_fiscal,\n",
        "  nome_funcionario,\n",
        "  count(*) over (partition by ano_fiscal,nome_funcionario) total_venda_ano,\n",
        "  count(*) over () total_de_vendas\n",
        "\n",
        "from vendas\n",
        "order by ano_fiscal\"\"\"\n",
        "spark.sql(SQL).show()"
      ],
      "metadata": {
        "id": "M0qqkQfxzDlR"
      },
      "execution_count": null,
      "outputs": []
    },
    {
      "cell_type": "code",
      "source": [
        "# Numero de vendas por ano, por funcionario e número total de vendas em todos os oanos usando subquery\n",
        "SQL=\"\"\"\n",
        "select\n",
        "  ano_fiscal,\n",
        "  nome_funcionario,\n",
        "  count(*) over (partition by ano_fiscal,nome_funcionario) total_venda_ano,\n",
        "  count(*) over () total_de_vendas\n",
        "\n",
        "from vendas\n",
        "order by ano_fiscal\"\"\"\n",
        "spark.sql(SQL).show()"
      ],
      "metadata": {
        "id": "j4qQ7UXn0G4E"
      },
      "execution_count": null,
      "outputs": []
    },
    {
      "cell_type": "markdown",
      "source": [
        "### Bicicletas"
      ],
      "metadata": {
        "id": "8mLVpD-g2slP"
      }
    },
    {
      "cell_type": "code",
      "source": [
        "#  data_inicio\n",
        "#  data_fim\n",
        "#  numero_estacao_inicio\n",
        "#  estacao_inicio\n",
        "#  numero_estacao_fim\n",
        "#  estacao_fim\n",
        "#  numero_bicileta\n",
        "#  tipo_membro\n",
        "SQL=\"\"\"select `data_inicio` from  bicicletas\"\"\"\n",
        "spark.sql(SQL).show()"
      ],
      "metadata": {
        "id": "fuE-azMW2r7R"
      },
      "execution_count": null,
      "outputs": []
    },
    {
      "cell_type": "code",
      "source": [
        "# Duração total do aluguel das bikes (em horas)\n",
        "SQL=\"\"\"\n",
        "select\n",
        "  sum(duracao_segundos)/3600  duracao_horas\n",
        "from bicicletas\"\"\"\n",
        "spark.sql(SQL).show()\n",
        "\n",
        "# Duração total do aluguel das bikes (em horas), ao longo do tempo\n",
        "SQL=\"\"\"\n",
        "select\n",
        "  duracao_segundos,\n",
        "  sum(duracao_segundos/3600) over(order by data_inicio) duracao__total_horas\n",
        "from bicicletas\"\"\"\n",
        "spark.sql(SQL).show()"
      ],
      "metadata": {
        "id": "T_6pX-xR3cyn"
      },
      "execution_count": null,
      "outputs": []
    },
    {
      "cell_type": "code",
      "source": [
        "# Duracao total do aluguel das bikes (em horas), ao longo do tempo, por estação\n",
        "# de inicio do aluguel da bike, quando a data de inicio é menor '2012-01-08'\n",
        "\n",
        "SQL=\"\"\"\n",
        "select\n",
        "  row_number() over(order by estacao_inicio,data_inicio) numero_linha,\n",
        "  estacao_inicio,\n",
        "  duracao_segundos,\n",
        "  sum(duracao_segundos/3600) over(partition by estacao_inicio order by data_inicio) duracao__total_horas\n",
        "from bicicletas\n",
        "where data_inicio <'2012-01-08'\n",
        "order by numero_linha\n",
        "\"\"\"\n",
        "spark.sql(SQL).show(60)"
      ],
      "metadata": {
        "id": "bUxck4sp8NEn"
      },
      "execution_count": null,
      "outputs": []
    },
    {
      "cell_type": "code",
      "source": [
        "# Qual é a média de tempo (em horas) de aluguél de bikes da estação ininicio 310177\n",
        "SQL=\"\"\"\n",
        "select\n",
        "  estacao_inicio,\n",
        "  duracao_segundos/3600,\n",
        "  avg(duracao_segundos/3600) over(partition by estacao_inicio order by data_inicio) media_tempo_aluguel\n",
        "from bicicletas\n",
        "where numero_estacao_inicio = 31017\n",
        "\"\"\"\n",
        "spark.sql(SQL).show()"
      ],
      "metadata": {
        "id": "hsZb_ONEA0Ce"
      },
      "execution_count": null,
      "outputs": []
    },
    {
      "cell_type": "code",
      "source": [
        "# Retornar:\n",
        "# Estação de início, data de início e duração de cada aluguel de bike em segundos\n",
        "# Duração total de aluguel das bikes ao longo do tempo por estação de início\n",
        "# Duração média do aluguel de bikes ao longo do tempo por estação de início\n",
        "# Número de aluguéis de bikes por estação ao longo do tempo\n",
        "# Somente os registros quando a data de início for inferior a '2012-01-08'\n",
        "SQL=\"\"\"\n",
        "select\n",
        "  estacao_inicio,\n",
        "  data_inicio,\n",
        "  duracao_segundos,\n",
        "  sum(duracao_segundos) over(partition by estacao_inicio order by data_inicio) duracao_total,\n",
        "  avg(duracao_segundos) over(partition by estacao_inicio order by data_inicio) duracao_media,\n",
        "  count(*) over(partition by estacao_inicio order by data_inicio) qtde_aluguel\n",
        "from bicicletas\n",
        "where data_inicio < '2012-01-08'\n",
        "\"\"\"\n",
        "spark.sql(SQL).show()"
      ],
      "metadata": {
        "id": "1QRIrV2kBgNp"
      },
      "execution_count": null,
      "outputs": []
    },
    {
      "cell_type": "code",
      "source": [
        "# Retornar:\n",
        "# Estação de início, data de início de cada aluguel de bike e duração de cada aluguel em segundos\n",
        "# Número de aluguéis de bikes (independente da estação) ao longo do tempo\n",
        "# Somente os registros quando a data de início for inferior a '2012-01-08'\n",
        "\n",
        "SQL=\"\"\"\n",
        "SELECT\n",
        "  estacao_inicio,\n",
        "  data_inicio,\n",
        "  duracao_segundos,\n",
        "  row_number() over(partition by estacao_inicio order by data_inicio) linha_estacao\n",
        "FROM bicicletas\n",
        "where data_inicio < '2012-01-08'\n",
        "\"\"\"\n",
        "\n",
        "spark.sql(SQL).show()"
      ],
      "metadata": {
        "id": "TwZfEUh2EtuD"
      },
      "execution_count": null,
      "outputs": []
    },
    {
      "cell_type": "code",
      "source": [
        "# ROW_NUMBER\n",
        "# Estacao_inicio, data_inicio,duracao_segundos do aluguel e número de aluguéis ao longo do tempo\n",
        "# para a estação 31000\n",
        "SQL=\"\"\"\n",
        "SELECT\n",
        "  estacao_inicio,\n",
        "  cast(data_inicio as date) data_inicio,\n",
        "  duracao_segundos,\n",
        "  row_number() over(partition by estacao_inicio order by cast(data_inicio as date)) rowNumber_numero_alugueis,\n",
        "  dense_rank() over(partition by estacao_inicio order by cast(data_inicio as date)) drank_numero_alugueis,\n",
        "  rank() over(partition by estacao_inicio order by cast(data_inicio as date)) rank_numero_alugueis\n",
        "\n",
        "FROM bicicletas\n",
        "where data_inicio < '2012-01-08' AND numero_estacao_inicio =31000\n",
        "\"\"\"\n",
        "\n",
        "spark.sql(SQL).show()"
      ],
      "metadata": {
        "id": "mPl-Kpi9icuw"
      },
      "execution_count": null,
      "outputs": []
    },
    {
      "cell_type": "code",
      "source": [
        "#lag e lead\n",
        "SQL=\"\"\"\n",
        "SELECT\n",
        "  estacao_inicio,\n",
        "  cast(data_inicio as date) data_inicio,\n",
        "  duracao_segundos,\n",
        "  LAG(duracao_segundos,1) over(partition by estacao_inicio order by cast(data_inicio as date)) registro_lag,\n",
        "  LEAD(duracao_segundos,1) over(partition by estacao_inicio order by cast(data_inicio as date)) registro_lead\n",
        "FROM bicicletas\n",
        "where data_inicio < '2012-01-08' AND numero_estacao_inicio =31000\n",
        "\"\"\"\n",
        "\n",
        "spark.sql(SQL).show()"
      ],
      "metadata": {
        "id": "J87lBCt0icKs"
      },
      "execution_count": null,
      "outputs": []
    },
    {
      "cell_type": "code",
      "source": [
        "#window alias\n",
        "SQL=\"\"\"\n",
        "SELECT\n",
        "  estacao_inicio,\n",
        "  cast(data_inicio as date) data_inicio,\n",
        "  duracao_segundos,\n",
        "  NTILE(2) Over(partition by estacao_inicio order by cast(data_inicio as date)) n_group_2,\n",
        "  NTILE(4) Over(partition by estacao_inicio order by cast(data_inicio as date)) n_group_4,\n",
        "  NTILE(6) Over(partition by estacao_inicio order by cast(data_inicio as date)) n_group_6\n",
        "FROM bicicletas\n",
        "where data_inicio < '2012-01-08'\n",
        "window ntile_window as (partition by estacao_inicio order by cast(data_inicio as date))\n",
        "\"\"\"\n",
        "\n",
        "spark.sql(SQL).show()"
      ],
      "metadata": {
        "id": "_3NNlGA02YF5"
      },
      "execution_count": null,
      "outputs": []
    },
    {
      "cell_type": "code",
      "source": [
        "\n",
        "SQL = \"\"\"\n",
        "SELECT\n",
        "  data_inicio,\n",
        "  DATE(data_inicio),\n",
        "  TIMESTAMP(data_inicio),\n",
        "  YEAR(data_inicio),\n",
        "  MONTH(data_inicio),\n",
        "  EXTRACT(MONTH FROM data_inicio),\n",
        "  DAY(data_inicio)\n",
        "FROM bicicletas\n",
        "\"\"\"\n",
        "spark.sql(SQL).show()"
      ],
      "metadata": {
        "id": "ro58dWxi3nIF"
      },
      "execution_count": null,
      "outputs": []
    },
    {
      "cell_type": "code",
      "source": [
        "SQL =\"\"\"\n",
        "SELECT\n",
        "  data_inicio,\n",
        "  DATE_ADD(data_inicio, interval 1 MONTH) as data_inicio,\n",
        "  duracao_segundos\n",
        "FROM bicicletas\n",
        "WHERE numero_estacao_inicio = 31000\n",
        "\"\"\"\n",
        "spark.sql(SQL).show()"
      ],
      "metadata": {
        "id": "YMhHvnV-57y1"
      },
      "execution_count": null,
      "outputs": []
    },
    {
      "cell_type": "code",
      "source": [
        "# 1 - Qual a média de tempo (em segundos) de duração do aluguel de bike por tipo de membro?\n",
        "SQL=\"\"\"\n",
        "select\n",
        "  tipo_membro,\n",
        "  avg(duracao_segundos)\n",
        "from bicicletas2\n",
        "group by tipo_membro\n",
        "\"\"\"\n",
        "spark.sql(SQL).show()"
      ],
      "metadata": {
        "colab": {
          "base_uri": "https://localhost:8080/",
          "height": 265
        },
        "id": "xP-h3vpXJ5mu",
        "outputId": "0fba82da-c113-4e5c-e4f9-108c04dadeb2"
      },
      "execution_count": 107,
      "outputs": [
        {
          "output_type": "display_data",
          "data": {
            "text/plain": [
              "<IPython.core.display.Javascript object>"
            ],
            "application/javascript": [
              "\n",
              "  for (rule of document.styleSheets[0].cssRules){\n",
              "    if (rule.selectorText=='body') {\n",
              "      rule.style.fontSize = '24px'\n",
              "      break\n",
              "    }\n",
              "  }\n",
              "  "
            ]
          },
          "metadata": {}
        },
        {
          "output_type": "display_data",
          "data": {
            "text/plain": [
              "<IPython.core.display.Javascript object>"
            ],
            "application/javascript": [
              "\n",
              "  for (rule of document.styleSheets[0].cssRules){\n",
              "    if (rule.selectorText=='body') {\n",
              "      rule.style.fontSize = '24px'\n",
              "      break\n",
              "    }\n",
              "  }\n",
              "  "
            ]
          },
          "metadata": {}
        },
        {
          "output_type": "stream",
          "name": "stdout",
          "text": [
            "+-----------+---------------------+\n",
            "|tipo_membro|avg(duracao_segundos)|\n",
            "+-----------+---------------------+\n",
            "|    Unknown|                653.0|\n",
            "|     Member|     697.663521690083|\n",
            "|     Casual|   2499.6840492664815|\n",
            "+-----------+---------------------+\n",
            "\n"
          ]
        }
      ]
    },
    {
      "cell_type": "code",
      "source": [
        "# 2 - Qual a média de tempo (em segundos) de duração do aluguel de bike por tipo de membro\n",
        "# e por estação fim (onde as bikes são entregues após o aluguel)?\n",
        "\n",
        "SQL=\"\"\"\n",
        "select\n",
        "  tipo_membro,\n",
        "  estacao_fim,\n",
        "  avg(duracao_segundos)\n",
        "from bicicletas2\n",
        "group by tipo_membro,estacao_fim\n",
        "\"\"\"\n",
        "spark.sql(SQL).show()"
      ],
      "metadata": {
        "colab": {
          "base_uri": "https://localhost:8080/",
          "height": 823
        },
        "id": "MrFQCaJtL2pG",
        "outputId": "04f48955-81f4-4231-cd75-080e291faf1f"
      },
      "execution_count": 109,
      "outputs": [
        {
          "output_type": "display_data",
          "data": {
            "text/plain": [
              "<IPython.core.display.Javascript object>"
            ],
            "application/javascript": [
              "\n",
              "  for (rule of document.styleSheets[0].cssRules){\n",
              "    if (rule.selectorText=='body') {\n",
              "      rule.style.fontSize = '24px'\n",
              "      break\n",
              "    }\n",
              "  }\n",
              "  "
            ]
          },
          "metadata": {}
        },
        {
          "output_type": "display_data",
          "data": {
            "text/plain": [
              "<IPython.core.display.Javascript object>"
            ],
            "application/javascript": [
              "\n",
              "  for (rule of document.styleSheets[0].cssRules){\n",
              "    if (rule.selectorText=='body') {\n",
              "      rule.style.fontSize = '24px'\n",
              "      break\n",
              "    }\n",
              "  }\n",
              "  "
            ]
          },
          "metadata": {}
        },
        {
          "output_type": "stream",
          "name": "stdout",
          "text": [
            "+-----------+--------------------+---------------------+\n",
            "|tipo_membro|         estacao_fim|avg(duracao_segundos)|\n",
            "+-----------+--------------------+---------------------+\n",
            "|     Member|Metro Center / 12...|    712.2872139407937|\n",
            "|     Casual|14th St & New Yor...|   2598.3668763102723|\n",
            "|     Member|      21st & M St NW|    594.0447653429603|\n",
            "|     Member|Georgia Ave and F...|    817.2728785357737|\n",
            "|     Member|Benning Branch Li...|               775.95|\n",
            "|     Member|   20th & Crystal Dr|    954.6701030927835|\n",
            "|     Member|19th St & Constit...|     1069.53216374269|\n",
            "|     Casual|USDA / 12th & Ind...|    3392.481149012567|\n",
            "|     Member|       1st & M St NE|    735.2394890899415|\n",
            "|     Casual|Rosslyn Metro / W...|    2965.273076923077|\n",
            "|     Member|Minnesota Ave Met...|    1140.857142857143|\n",
            "|     Casual|Rhode Island & Co...|   1840.1424332344213|\n",
            "|     Member|S Glebe & Potomac...|    603.4880952380952|\n",
            "|     Member|       4th & M St SW|    830.6654330125833|\n",
            "|     Casual|      10th & U St NW|   1607.6070175438597|\n",
            "|     Casual|19th St & Constit...|    2550.376159554731|\n",
            "|     Casual|Clarendon Blvd & ...|    2779.396551724138|\n",
            "|     Casual|Good Hope & Naylo...|               2023.0|\n",
            "|     Member|Clarendon Blvd & ...|     630.228813559322|\n",
            "|     Casual|C & O Canal & Wis...|   2592.2792792792793|\n",
            "+-----------+--------------------+---------------------+\n",
            "only showing top 20 rows\n",
            "\n"
          ]
        }
      ]
    },
    {
      "cell_type": "code",
      "source": [
        "# 3 - Qual hora do dia (independente do mês) a bike de número W01182 teve o maior número\n",
        "# de aluguéis considerando a data de início?\n",
        "SQL=\"\"\"\n",
        "select\n",
        "  DATE_FORMAT(data_inicio,'HH') hora,\n",
        "  count(duracao_segundos) contagem\n",
        "from bicicletas2\n",
        "where numero_bicicleta = 'W01182'\n",
        "GROUP BY DATE_FORMAT(data_inicio,'HH')\n",
        "ORDER BY contagem DESC\n",
        "\"\"\"\n",
        "\n",
        "spark.sql(SQL).show(25)"
      ],
      "metadata": {
        "colab": {
          "base_uri": "https://localhost:8080/",
          "height": 854
        },
        "id": "-D2nLM_OL9NP",
        "outputId": "abb63fec-d478-4ebd-b852-1030d7571516"
      },
      "execution_count": 133,
      "outputs": [
        {
          "output_type": "display_data",
          "data": {
            "text/plain": [
              "<IPython.core.display.Javascript object>"
            ],
            "application/javascript": [
              "\n",
              "  for (rule of document.styleSheets[0].cssRules){\n",
              "    if (rule.selectorText=='body') {\n",
              "      rule.style.fontSize = '24px'\n",
              "      break\n",
              "    }\n",
              "  }\n",
              "  "
            ]
          },
          "metadata": {}
        },
        {
          "output_type": "display_data",
          "data": {
            "text/plain": [
              "<IPython.core.display.Javascript object>"
            ],
            "application/javascript": [
              "\n",
              "  for (rule of document.styleSheets[0].cssRules){\n",
              "    if (rule.selectorText=='body') {\n",
              "      rule.style.fontSize = '24px'\n",
              "      break\n",
              "    }\n",
              "  }\n",
              "  "
            ]
          },
          "metadata": {}
        },
        {
          "output_type": "stream",
          "name": "stdout",
          "text": [
            "+----+--------+\n",
            "|hora|contagem|\n",
            "+----+--------+\n",
            "|  17|      43|\n",
            "|  18|      41|\n",
            "|  16|      36|\n",
            "|  08|      34|\n",
            "|  15|      33|\n",
            "|  19|      33|\n",
            "|  13|      29|\n",
            "|  20|      26|\n",
            "|  12|      23|\n",
            "|  14|      22|\n",
            "|  07|      21|\n",
            "|  11|      21|\n",
            "|  09|      17|\n",
            "|  21|      17|\n",
            "|  10|      16|\n",
            "|  22|      15|\n",
            "|  00|       7|\n",
            "|  23|       6|\n",
            "|  06|       6|\n",
            "|  02|       4|\n",
            "|  01|       1|\n",
            "|  05|       1|\n",
            "+----+--------+\n",
            "\n"
          ]
        }
      ]
    },
    {
      "cell_type": "code",
      "source": [
        "# 4 - Qual a média de tempo (em segundos) de duração do aluguel de bike por tipo de membro\n",
        "# e por estação fim (onde as bikes são entregues após o aluguel) ao longo do tempo?\n",
        "SQL=\"\"\"\n",
        "select\n",
        "  tipo_membro,\n",
        "  estacao_fim,\n",
        "  avg(duracao_segundos) over(partition by tipo_membro order by data_inicio) media\n",
        "from bicicletas2\n",
        "\n",
        "\"\"\"\n",
        "\n",
        "spark.sql(SQL).show()"
      ],
      "metadata": {
        "colab": {
          "base_uri": "https://localhost:8080/",
          "height": 823
        },
        "id": "KzQ1z5cCL5f6",
        "outputId": "50be83b3-29bf-41f5-dc40-8ea82a754d4d"
      },
      "execution_count": 135,
      "outputs": [
        {
          "output_type": "display_data",
          "data": {
            "text/plain": [
              "<IPython.core.display.Javascript object>"
            ],
            "application/javascript": [
              "\n",
              "  for (rule of document.styleSheets[0].cssRules){\n",
              "    if (rule.selectorText=='body') {\n",
              "      rule.style.fontSize = '24px'\n",
              "      break\n",
              "    }\n",
              "  }\n",
              "  "
            ]
          },
          "metadata": {}
        },
        {
          "output_type": "display_data",
          "data": {
            "text/plain": [
              "<IPython.core.display.Javascript object>"
            ],
            "application/javascript": [
              "\n",
              "  for (rule of document.styleSheets[0].cssRules){\n",
              "    if (rule.selectorText=='body') {\n",
              "      rule.style.fontSize = '24px'\n",
              "      break\n",
              "    }\n",
              "  }\n",
              "  "
            ]
          },
          "metadata": {}
        },
        {
          "output_type": "stream",
          "name": "stdout",
          "text": [
            "+-----------+--------------------+-----------------+\n",
            "|tipo_membro|         estacao_fim|            media|\n",
            "+-----------+--------------------+-----------------+\n",
            "|     Member|       7th & T St NW|            475.0|\n",
            "|     Member|16th & Harvard St NW|            810.0|\n",
            "|     Member|Park Rd & Holmead...|701.6666666666666|\n",
            "|     Member|       7th & T St NW|            644.0|\n",
            "|     Member|Lynn & 19th St North|            586.8|\n",
            "|     Member|  9th & Upshur St NW|781.3333333333334|\n",
            "|     Member|      15th & P St NW|706.7142857142857|\n",
            "|     Member|25th St & Pennsyl...|          682.875|\n",
            "|     Member|L'Enfant Plaza / ...|708.4444444444445|\n",
            "|     Member|Massachusetts Ave...|            747.3|\n",
            "|     Member|      21st & I St NW|723.9090909090909|\n",
            "|     Member|Massachusetts Ave...|750.6666666666666|\n",
            "|     Member|14th & Rhode Isla...|772.5384615384615|\n",
            "|     Member|14th & Rhode Isla...|793.0714285714286|\n",
            "|     Member|Massachusetts Ave...|809.4666666666667|\n",
            "|     Member|New York Ave & 15...|         786.5625|\n",
            "|     Member|Convention Center...|758.8823529411765|\n",
            "|     Member|      14th & V St NW|744.8333333333334|\n",
            "|     Member|17th & Corcoran S...|755.9473684210526|\n",
            "|     Member|Massachusetts Ave...|           730.35|\n",
            "+-----------+--------------------+-----------------+\n",
            "only showing top 20 rows\n",
            "\n"
          ]
        }
      ]
    },
    {
      "cell_type": "code",
      "source": [
        "# 5 - Qual o número de aluguéis da bike de número W01182 ao longo do tempo considerando\n",
        "# a data de início?\n",
        "SQL=\"\"\"\n",
        "SELECT\n",
        "  CAST(data_inicio AS date) data_inicio,\n",
        "  count(*) over(partition by estacao_inicio order by  CAST(data_inicio AS date)) contagem\n",
        "FROM bicicletas2\n",
        "where numero_bicicleta='W01182'\n",
        "\"\"\"\n",
        "spark.sql(SQL).show()"
      ],
      "metadata": {
        "colab": {
          "base_uri": "https://localhost:8080/",
          "height": 823
        },
        "id": "YXsEUdUUL_kl",
        "outputId": "6758df21-9480-4429-d226-0bdeac51ab2e"
      },
      "execution_count": 152,
      "outputs": [
        {
          "output_type": "display_data",
          "data": {
            "text/plain": [
              "<IPython.core.display.Javascript object>"
            ],
            "application/javascript": [
              "\n",
              "  for (rule of document.styleSheets[0].cssRules){\n",
              "    if (rule.selectorText=='body') {\n",
              "      rule.style.fontSize = '24px'\n",
              "      break\n",
              "    }\n",
              "  }\n",
              "  "
            ]
          },
          "metadata": {}
        },
        {
          "output_type": "display_data",
          "data": {
            "text/plain": [
              "<IPython.core.display.Javascript object>"
            ],
            "application/javascript": [
              "\n",
              "  for (rule of document.styleSheets[0].cssRules){\n",
              "    if (rule.selectorText=='body') {\n",
              "      rule.style.fontSize = '24px'\n",
              "      break\n",
              "    }\n",
              "  }\n",
              "  "
            ]
          },
          "metadata": {}
        },
        {
          "output_type": "stream",
          "name": "stdout",
          "text": [
            "+-----------+--------+\n",
            "|data_inicio|contagem|\n",
            "+-----------+--------+\n",
            "| 2012-04-02|       1|\n",
            "| 2012-04-10|       2|\n",
            "| 2012-05-19|       1|\n",
            "| 2012-04-15|       1|\n",
            "| 2012-04-18|       2|\n",
            "| 2012-04-28|       3|\n",
            "| 2012-04-11|       1|\n",
            "| 2012-04-01|       1|\n",
            "| 2012-05-01|       2|\n",
            "| 2012-06-13|       3|\n",
            "| 2012-05-07|       1|\n",
            "| 2012-04-12|       1|\n",
            "| 2012-06-14|       2|\n",
            "| 2012-04-06|       1|\n",
            "| 2012-04-20|       2|\n",
            "| 2012-05-24|       3|\n",
            "| 2012-06-10|       4|\n",
            "| 2012-06-22|       5|\n",
            "| 2012-05-23|       1|\n",
            "| 2012-06-13|       1|\n",
            "+-----------+--------+\n",
            "only showing top 20 rows\n",
            "\n"
          ]
        }
      ]
    },
    {
      "cell_type": "code",
      "source": [
        "# 6 - Retornar:\n",
        "#     Estação fim, data fim de cada aluguel de bike e duração de cada aluguel em segundos\n",
        "#     Número de aluguéis de bikes (independente da estação) ao longo do tempo\n",
        "#     Somente os registros quando a data fim foi no mês de Abril\n",
        "SQL=\"\"\"\n",
        "SELECT\n",
        "  estacao_fim,data_fim,duracao_segundos,\n",
        "  count(*) over(order by data_fim) numero\n",
        "FROM bicicletas2\n",
        "where MONTH(data_fim) = 04\n",
        "\"\"\"\n",
        "spark.sql(SQL).show()"
      ],
      "metadata": {
        "colab": {
          "base_uri": "https://localhost:8080/",
          "height": 823
        },
        "id": "-32mDBafMCBA",
        "outputId": "20b3b97e-8981-4ca4-c02e-00132e4e9f14"
      },
      "execution_count": 158,
      "outputs": [
        {
          "output_type": "display_data",
          "data": {
            "text/plain": [
              "<IPython.core.display.Javascript object>"
            ],
            "application/javascript": [
              "\n",
              "  for (rule of document.styleSheets[0].cssRules){\n",
              "    if (rule.selectorText=='body') {\n",
              "      rule.style.fontSize = '24px'\n",
              "      break\n",
              "    }\n",
              "  }\n",
              "  "
            ]
          },
          "metadata": {}
        },
        {
          "output_type": "display_data",
          "data": {
            "text/plain": [
              "<IPython.core.display.Javascript object>"
            ],
            "application/javascript": [
              "\n",
              "  for (rule of document.styleSheets[0].cssRules){\n",
              "    if (rule.selectorText=='body') {\n",
              "      rule.style.fontSize = '24px'\n",
              "      break\n",
              "    }\n",
              "  }\n",
              "  "
            ]
          },
          "metadata": {}
        },
        {
          "output_type": "stream",
          "name": "stdout",
          "text": [
            "+--------------------+-------------------+----------------+------+\n",
            "|         estacao_fim|           data_fim|duracao_segundos|numero|\n",
            "+--------------------+-------------------+----------------+------+\n",
            "|      21st & M St NW|2012-04-01 00:04:26|             192|     1|\n",
            "|Harvard St & Adam...|2012-04-01 00:06:57|             163|     2|\n",
            "|Massachusetts Ave...|2012-04-01 00:09:45|             187|     3|\n",
            "|Rhode Island & Co...|2012-04-01 00:10:26|             408|     4|\n",
            "|20th St & Florida...|2012-04-01 00:11:23|             188|     5|\n",
            "|25th St & Pennsyl...|2012-04-01 00:13:15|             474|     6|\n",
            "|Rhode Island & Co...|2012-04-01 00:14:25|             492|     7|\n",
            "|New Hampshire Ave...|2012-04-01 00:15:35|             260|     8|\n",
            "|New Hampshire Ave...|2012-04-01 00:15:43|             504|     9|\n",
            "|Harvard St & Adam...|2012-04-01 00:16:11|             169|    10|\n",
            "|       3rd & D St SE|2012-04-01 00:17:00|             446|    11|\n",
            "|      15th & P St NW|2012-04-01 00:17:28|             843|    12|\n",
            "|       8th & H St NW|2012-04-01 00:18:08|             978|    13|\n",
            "|      13th & H St NE|2012-04-01 00:19:37|             354|    14|\n",
            "|16th & Harvard St NW|2012-04-01 00:20:09|             357|    15|\n",
            "|20th St & Florida...|2012-04-01 00:20:30|             269|    16|\n",
            "|      10th & U St NW|2012-04-01 00:21:38|             283|    17|\n",
            "|       1st & M St NE|2012-04-01 00:22:33|             759|    18|\n",
            "|Van Ness Metro / UDC|2012-04-01 00:22:39|             624|    19|\n",
            "|      18th & M St NW|2012-04-01 00:23:20|             564|    20|\n",
            "+--------------------+-------------------+----------------+------+\n",
            "only showing top 20 rows\n",
            "\n"
          ]
        }
      ]
    },
    {
      "cell_type": "code",
      "source": [
        "# 7 - Retornar:\n",
        "#     Estação fim, data fim e duração em segundos do aluguel\n",
        "#     A data fim deve ser retornada no formato: 01/January/2012 00:00:00\n",
        "#     Queremos a ordem (classificação ou ranking) dos dias de aluguel ao longo dotempo\n",
        "#     Retornar os dados para os aluguéis entre 7 e 11 da manhã\n",
        "SQL=\"\"\"\n",
        "select\n",
        "  estacao_fim,\n",
        "  date_format(data_fim,\"dd-MM-yyyy HH:mm:ss\") data_fim,\n",
        "  duracao_segundos,\n",
        "  dense_rank() over (partition by estacao_fim order by cast(data_fim as date)) ranking\n",
        "  from bicicletas\n",
        "  where extract(hour from data_fim) between 07 and 11\n",
        "\"\"\"\n",
        "spark.sql(SQL).show()"
      ],
      "metadata": {
        "colab": {
          "base_uri": "https://localhost:8080/",
          "height": 823
        },
        "id": "6jL1CkMzME5s",
        "outputId": "0c644387-9142-4279-8bc7-c2f026f88365"
      },
      "execution_count": 169,
      "outputs": [
        {
          "output_type": "display_data",
          "data": {
            "text/plain": [
              "<IPython.core.display.Javascript object>"
            ],
            "application/javascript": [
              "\n",
              "  for (rule of document.styleSheets[0].cssRules){\n",
              "    if (rule.selectorText=='body') {\n",
              "      rule.style.fontSize = '24px'\n",
              "      break\n",
              "    }\n",
              "  }\n",
              "  "
            ]
          },
          "metadata": {}
        },
        {
          "output_type": "display_data",
          "data": {
            "text/plain": [
              "<IPython.core.display.Javascript object>"
            ],
            "application/javascript": [
              "\n",
              "  for (rule of document.styleSheets[0].cssRules){\n",
              "    if (rule.selectorText=='body') {\n",
              "      rule.style.fontSize = '24px'\n",
              "      break\n",
              "    }\n",
              "  }\n",
              "  "
            ]
          },
          "metadata": {}
        },
        {
          "output_type": "stream",
          "name": "stdout",
          "text": [
            "+-------------------+-------------------+----------------+-------+\n",
            "|        estacao_fim|           data_fim|duracao_segundos|ranking|\n",
            "+-------------------+-------------------+----------------+-------+\n",
            "|10th & Monroe St NE|01-01-2012 11:01:02|             619|      1|\n",
            "|10th & Monroe St NE|01-01-2012 11:37:46|            1956|      1|\n",
            "|10th & Monroe St NE|01-01-2012 11:37:22|            1899|      1|\n",
            "|10th & Monroe St NE|07-01-2012 09:50:03|            1096|      2|\n",
            "|10th & Monroe St NE|10-01-2012 08:13:37|             862|      3|\n",
            "|10th & Monroe St NE|14-01-2012 08:17:21|             784|      4|\n",
            "|10th & Monroe St NE|14-01-2012 10:07:59|             761|      4|\n",
            "|10th & Monroe St NE|16-01-2012 10:21:08|             756|      5|\n",
            "|10th & Monroe St NE|21-01-2012 08:39:23|             891|      6|\n",
            "|10th & Monroe St NE|22-01-2012 11:43:02|           22971|      7|\n",
            "|10th & Monroe St NE|28-01-2012 08:32:06|             808|      8|\n",
            "|10th & Monroe St NE|28-01-2012 10:17:52|             749|      8|\n",
            "|10th & Monroe St NE|29-01-2012 11:58:41|             638|      9|\n",
            "|10th & Monroe St NE|03-02-2012 11:39:34|             694|     10|\n",
            "|10th & Monroe St NE|04-02-2012 08:33:39|             776|     11|\n",
            "|10th & Monroe St NE|04-02-2012 11:16:39|            1235|     11|\n",
            "|10th & Monroe St NE|19-02-2012 11:27:37|            2227|     12|\n",
            "|10th & Monroe St NE|23-02-2012 08:33:39|             787|     13|\n",
            "|10th & Monroe St NE|26-02-2012 10:53:03|            1887|     14|\n",
            "|10th & Monroe St NE|28-02-2012 11:36:13|             771|     15|\n",
            "+-------------------+-------------------+----------------+-------+\n",
            "only showing top 20 rows\n",
            "\n"
          ]
        }
      ]
    },
    {
      "cell_type": "code",
      "source": [
        "# 8 - Qual a diferença da duração do aluguel de bikesao longo do tempo, de um registro para\n",
        "# outro, considerando data de início do aluguel e estação de início?\n",
        "# A data de início deve ser retornada no\n",
        "# formato: Sat/Jan/12 00:00:00 (Sat = Dia da semana abreviado e Jan igual mês abreviado).\n",
        "# Retornar os dados para os aluguéis entre 01 e 03 da manhã\n",
        "\n",
        "SQL=\"\"\"\n",
        "SELECT\n",
        "    date_format(data_fim,\"dd-MMM-yyyy HH:mm:ss\") data_fim,\n",
        "    duracao_segundos - LAG(duracao_segundos,1) over (partition by estacao_inicio order by cast(data_inicio as date)) as diff\n",
        "FROM bicicletas2\n",
        " where extract(hour from data_fim) between 01 and 03\n",
        "\"\"\"\n",
        "spark.sql(SQL).show()"
      ],
      "metadata": {
        "colab": {
          "base_uri": "https://localhost:8080/",
          "height": 823
        },
        "id": "qKK6rqQcMIUu",
        "outputId": "11b5e70e-7e80-45b0-c6d6-1fed3601e1d7"
      },
      "execution_count": 181,
      "outputs": [
        {
          "output_type": "display_data",
          "data": {
            "text/plain": [
              "<IPython.core.display.Javascript object>"
            ],
            "application/javascript": [
              "\n",
              "  for (rule of document.styleSheets[0].cssRules){\n",
              "    if (rule.selectorText=='body') {\n",
              "      rule.style.fontSize = '24px'\n",
              "      break\n",
              "    }\n",
              "  }\n",
              "  "
            ]
          },
          "metadata": {}
        },
        {
          "output_type": "display_data",
          "data": {
            "text/plain": [
              "<IPython.core.display.Javascript object>"
            ],
            "application/javascript": [
              "\n",
              "  for (rule of document.styleSheets[0].cssRules){\n",
              "    if (rule.selectorText=='body') {\n",
              "      rule.style.fontSize = '24px'\n",
              "      break\n",
              "    }\n",
              "  }\n",
              "  "
            ]
          },
          "metadata": {}
        },
        {
          "output_type": "stream",
          "name": "stdout",
          "text": [
            "+--------------------+-----+\n",
            "|            data_fim| diff|\n",
            "+--------------------+-----+\n",
            "|05-Apr-2012 02:45:10| NULL|\n",
            "|12-Apr-2012 02:23:22|  337|\n",
            "|14-Apr-2012 02:16:33| -916|\n",
            "|21-Apr-2012 02:04:46| 4660|\n",
            "|28-Apr-2012 02:31:26|-4571|\n",
            "|03-May-2012 02:31:48| -100|\n",
            "|05-May-2012 03:44:55| 8431|\n",
            "|25-May-2012 03:04:30| 2161|\n",
            "|03-Jun-2012 01:35:20|-5812|\n",
            "|24-Jun-2012 02:20:04|-4149|\n",
            "|24-Jun-2012 02:20:06|  -10|\n",
            "|01-Apr-2012 01:01:54| NULL|\n",
            "|01-Apr-2012 01:30:33|  165|\n",
            "|01-Apr-2012 01:43:20|  162|\n",
            "|01-Apr-2012 01:46:52| -177|\n",
            "|01-Apr-2012 02:20:15| 1280|\n",
            "|01-Apr-2012 02:09:09|-1356|\n",
            "|01-Apr-2012 02:18:11|  524|\n",
            "|01-Apr-2012 02:21:03| -506|\n",
            "|01-Apr-2012 02:53:20|  190|\n",
            "+--------------------+-----+\n",
            "only showing top 20 rows\n",
            "\n"
          ]
        }
      ]
    },
    {
      "cell_type": "code",
      "source": [
        "# 9 - Retornar:\n",
        "#     Estação fim, data fim e duração em segundos do aluguel\n",
        "#     A data fim deve ser retornada no formato: 01/January/2012 00:00:00# Queremos os\n",
        "#     registros divididos em 4 grupos ao longo do tempo por partição\n",
        "#     Retornar os dados para os aluguéis entre 8 e 10 da manhã\n",
        "#     Qual critério usado pela função NTILE para dividir os grupos?\n",
        "SQL=\"\"\"\n",
        "SELECT\n",
        "    estacao_fim,\n",
        "    date_format(data_fim,\"dd/MMMM/yyyy HH:mm:ss\") data_fim,\n",
        "    duracao_segundos,\n",
        "    NTILE(4) over (partition by estacao_fim order by cast(data_fim as date)) as ranking\n",
        "FROM bicicletas2\n",
        " where extract(hour from data_fim) between 08 and 11\n",
        "\"\"\"\n",
        "spark.sql(SQL).show()\n"
      ],
      "metadata": {
        "colab": {
          "base_uri": "https://localhost:8080/",
          "height": 565
        },
        "id": "jm_PUuK7MM8i",
        "outputId": "0892e3f3-9c25-4c08-d453-7188d733dfd7"
      },
      "execution_count": 186,
      "outputs": [
        {
          "output_type": "display_data",
          "data": {
            "text/plain": [
              "<IPython.core.display.Javascript object>"
            ],
            "application/javascript": [
              "\n",
              "  for (rule of document.styleSheets[0].cssRules){\n",
              "    if (rule.selectorText=='body') {\n",
              "      rule.style.fontSize = '24px'\n",
              "      break\n",
              "    }\n",
              "  }\n",
              "  "
            ]
          },
          "metadata": {}
        },
        {
          "output_type": "display_data",
          "data": {
            "text/plain": [
              "<IPython.core.display.Javascript object>"
            ],
            "application/javascript": [
              "\n",
              "  for (rule of document.styleSheets[0].cssRules){\n",
              "    if (rule.selectorText=='body') {\n",
              "      rule.style.fontSize = '24px'\n",
              "      break\n",
              "    }\n",
              "  }\n",
              "  "
            ]
          },
          "metadata": {}
        },
        {
          "output_type": "stream",
          "name": "stdout",
          "text": [
            "+-------------------+--------------------+----------------+-------+\n",
            "|        estacao_fim|            data_fim|duracao_segundos|ranking|\n",
            "+-------------------+--------------------+----------------+-------+\n",
            "|10th & Monroe St NE|01/April/2012 11:...|             902|      1|\n",
            "|10th & Monroe St NE|01/April/2012 11:...|             848|      1|\n",
            "|10th & Monroe St NE|01/April/2012 11:...|             843|      1|\n",
            "|10th & Monroe St NE|01/April/2012 11:...|             869|      1|\n",
            "|10th & Monroe St NE|03/April/2012 10:...|             449|      1|\n",
            "|10th & Monroe St NE|04/April/2012 09:...|             758|      1|\n",
            "|10th & Monroe St NE|06/April/2012 11:...|            1542|      1|\n",
            "|10th & Monroe St NE|09/April/2012 08:...|             497|      1|\n",
            "|10th & Monroe St NE|11/April/2012 09:...|             856|      1|\n",
            "|10th & Monroe St NE|13/April/2012 10:...|             566|      1|\n",
            "|10th & Monroe St NE|14/April/2012 10:...|            1436|      1|\n",
            "|10th & Monroe St NE|14/April/2012 10:...|            1271|      1|\n",
            "|10th & Monroe St NE|14/April/2012 11:...|            1333|      1|\n",
            "|10th & Monroe St NE|21/April/2012 10:...|             758|      1|\n",
            "|10th & Monroe St NE|21/April/2012 11:...|             104|      1|\n",
            "|10th & Monroe St NE|22/April/2012 10:...|             877|      1|\n",
            "|10th & Monroe St NE|26/April/2012 11:...|            1086|      1|\n",
            "|10th & Monroe St NE|27/April/2012 09:...|             128|      1|\n",
            "|10th & Monroe St NE|27/April/2012 10:...|            1442|      2|\n",
            "|10th & Monroe St NE|27/April/2012 11:...|            1779|      2|\n",
            "+-------------------+--------------------+----------------+-------+\n",
            "only showing top 20 rows\n",
            "\n"
          ]
        }
      ]
    },
    {
      "cell_type": "code",
      "source": [
        "# 10- Quais estações tiveram mais de 35 horas de duração total do aluguel de bike ao longo do\n",
        "# tempo considerando a data fim e estação fim?\n",
        "#     Retorne os dados entre os dias '2012-04-01' e '2012-04-02'\n",
        "#     Dica: Use função window e subquery\n",
        "SQL =\"\"\"\n",
        "select * from (\n",
        "SELECT\n",
        "  estacao_fim, CAST(data_fim as date) data_fim,\n",
        "  sum(duracao_segundos/3600) over (partition by estacao_fim order by cast(data_fim as date)) tempo_total_horas\n",
        "FROM bicicletas2\n",
        "where data_fim  between '2012-04-01' and '2012-04-02')\n",
        "where tempo_total_horas > 35\n",
        "\"\"\"\n",
        "spark.sql(SQL).show()"
      ],
      "metadata": {
        "colab": {
          "base_uri": "https://localhost:8080/",
          "height": 823
        },
        "id": "5XhldpW-MPkc",
        "outputId": "fa803f71-0610-418e-e0e4-cf815813bcf7"
      },
      "execution_count": 192,
      "outputs": [
        {
          "output_type": "display_data",
          "data": {
            "text/plain": [
              "<IPython.core.display.Javascript object>"
            ],
            "application/javascript": [
              "\n",
              "  for (rule of document.styleSheets[0].cssRules){\n",
              "    if (rule.selectorText=='body') {\n",
              "      rule.style.fontSize = '24px'\n",
              "      break\n",
              "    }\n",
              "  }\n",
              "  "
            ]
          },
          "metadata": {}
        },
        {
          "output_type": "display_data",
          "data": {
            "text/plain": [
              "<IPython.core.display.Javascript object>"
            ],
            "application/javascript": [
              "\n",
              "  for (rule of document.styleSheets[0].cssRules){\n",
              "    if (rule.selectorText=='body') {\n",
              "      rule.style.fontSize = '24px'\n",
              "      break\n",
              "    }\n",
              "  }\n",
              "  "
            ]
          },
          "metadata": {}
        },
        {
          "output_type": "stream",
          "name": "stdout",
          "text": [
            "+--------------------+----------+-----------------+\n",
            "|         estacao_fim|  data_fim|tempo_total_horas|\n",
            "+--------------------+----------+-----------------+\n",
            "|10th St & Constit...|2012-04-01|72.27388888888892|\n",
            "|10th St & Constit...|2012-04-01|72.27388888888892|\n",
            "|10th St & Constit...|2012-04-01|72.27388888888892|\n",
            "|10th St & Constit...|2012-04-01|72.27388888888892|\n",
            "|10th St & Constit...|2012-04-01|72.27388888888892|\n",
            "|10th St & Constit...|2012-04-01|72.27388888888892|\n",
            "|10th St & Constit...|2012-04-01|72.27388888888892|\n",
            "|10th St & Constit...|2012-04-01|72.27388888888892|\n",
            "|10th St & Constit...|2012-04-01|72.27388888888892|\n",
            "|10th St & Constit...|2012-04-01|72.27388888888892|\n",
            "|10th St & Constit...|2012-04-01|72.27388888888892|\n",
            "|10th St & Constit...|2012-04-01|72.27388888888892|\n",
            "|10th St & Constit...|2012-04-01|72.27388888888892|\n",
            "|10th St & Constit...|2012-04-01|72.27388888888892|\n",
            "|10th St & Constit...|2012-04-01|72.27388888888892|\n",
            "|10th St & Constit...|2012-04-01|72.27388888888892|\n",
            "|10th St & Constit...|2012-04-01|72.27388888888892|\n",
            "|10th St & Constit...|2012-04-01|72.27388888888892|\n",
            "|10th St & Constit...|2012-04-01|72.27388888888892|\n",
            "|10th St & Constit...|2012-04-01|72.27388888888892|\n",
            "+--------------------+----------+-----------------+\n",
            "only showing top 20 rows\n",
            "\n"
          ]
        }
      ]
    },
    {
      "cell_type": "markdown",
      "source": [],
      "metadata": {
        "id": "Rv-CG3HeicDA"
      }
    }
  ]
}