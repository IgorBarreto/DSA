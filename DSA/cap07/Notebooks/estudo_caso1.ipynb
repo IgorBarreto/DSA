{
  "nbformat": 4,
  "nbformat_minor": 0,
  "metadata": {
    "colab": {
      "provenance": [],
      "authorship_tag": "ABX9TyMbYURDd2QFk94In+1RIHCz",
      "include_colab_link": true
    },
    "kernelspec": {
      "name": "python3",
      "display_name": "Python 3"
    },
    "language_info": {
      "name": "python"
    }
  },
  "cells": [
    {
      "cell_type": "markdown",
      "metadata": {
        "id": "view-in-github",
        "colab_type": "text"
      },
      "source": [
        "<a href=\"https://colab.research.google.com/github/IgorBarreto/IgorBarreto.github.io/blob/main/DSA/cap07/Notebooks/estudo_caso1.ipynb\" target=\"_parent\"><img src=\"https://colab.research.google.com/assets/colab-badge.svg\" alt=\"Open In Colab\"/></a>"
      ]
    },
    {
      "cell_type": "code",
      "execution_count": null,
      "metadata": {
        "id": "C14x1raRt7M1"
      },
      "outputs": [],
      "source": []
    },
    {
      "cell_type": "markdown",
      "source": [
        "### Carregue os dados desta meneira\n",
        "\n",
        "\n",
        "```\n",
        "!wget - q https://IgorBarreto.github.io/[caminho do arquivo]\n",
        "```\n",
        "\n",
        "\n"
      ],
      "metadata": {
        "id": "RuEtan7DqtV3"
      }
    },
    {
      "cell_type": "markdown",
      "source": [
        "### configura tamanho da fonte da saida"
      ],
      "metadata": {
        "id": "Ulz0mS-rsE0A"
      }
    },
    {
      "cell_type": "code",
      "execution_count": null,
      "metadata": {
        "id": "Xm6HVKuvdg-Y",
        "colab": {
          "base_uri": "https://localhost:8080/"
        },
        "outputId": "faff0025-4908-44bf-9846-05f2ef97e8ba"
      },
      "outputs": [
        {
          "output_type": "stream",
          "name": "stdout",
          "text": [
            "\u001b[2K     \u001b[90m━━━━━━━━━━━━━━━━━━━━━━━━━━━━━━━━━━━━━━━━\u001b[0m \u001b[32m316.9/316.9 MB\u001b[0m \u001b[31m2.2 MB/s\u001b[0m eta \u001b[36m0:00:00\u001b[0m\n",
            "\u001b[?25h  Preparing metadata (setup.py) ... \u001b[?25l\u001b[?25hdone\n",
            "  Building wheel for pyspark (setup.py) ... \u001b[?25l\u001b[?25hdone\n"
          ]
        }
      ],
      "source": [
        "def increase_font():\n",
        "  from IPython.display import Javascript\n",
        "  display(Javascript('''\n",
        "  for (rule of document.styleSheets[0].cssRules){\n",
        "    if (rule.selectorText=='body') {\n",
        "      rule.style.fontSize = '24px'\n",
        "      break\n",
        "    }\n",
        "  }\n",
        "  '''))\n",
        "get_ipython().events.register('pre_run_cell', increase_font)\n",
        "!pip install pyspark --quiet"
      ]
    },
    {
      "cell_type": "markdown",
      "source": [
        "### Donload dos dados"
      ],
      "metadata": {
        "id": "gnZkSOi2sMfK"
      }
    },
    {
      "cell_type": "code",
      "source": [
        "# download dos dados\n",
        "\n",
        "! wget -q https://IgorBarreto.github.io/DSA/cap07/Datasets/covid_mortes.csv\n",
        "! wget -q https://IgorBarreto.github.io/DSA/cap07/Datasets/covid_vacinacao.csv"
      ],
      "metadata": {
        "colab": {
          "base_uri": "https://localhost:8080/",
          "height": 17
        },
        "id": "gEPAUqtCrhFG",
        "outputId": "e4368f3a-4047-415f-c2bd-437dbfa01000"
      },
      "execution_count": null,
      "outputs": [
        {
          "output_type": "display_data",
          "data": {
            "text/plain": [
              "<IPython.core.display.Javascript object>"
            ],
            "application/javascript": [
              "\n",
              "  for (rule of document.styleSheets[0].cssRules){\n",
              "    if (rule.selectorText=='body') {\n",
              "      rule.style.fontSize = '24px'\n",
              "      break\n",
              "    }\n",
              "  }\n",
              "  "
            ]
          },
          "metadata": {}
        }
      ]
    },
    {
      "cell_type": "markdown",
      "source": [
        "### Cria spark session"
      ],
      "metadata": {
        "id": "7Lz0KL6WsRvh"
      }
    },
    {
      "cell_type": "code",
      "source": [
        "import pyspark\n",
        "import zipfile\n",
        "from pyspark.sql import SparkSession\n",
        "spark = SparkSession\\\n",
        "  .builder\\\n",
        "  .appName('Sql spark')\\\n",
        "  .getOrCreate()"
      ],
      "metadata": {
        "colab": {
          "base_uri": "https://localhost:8080/",
          "height": 17
        },
        "id": "ZpBWXSuSmq0H",
        "outputId": "66e72aeb-14b5-487b-f2ef-1852d0b80f72"
      },
      "execution_count": null,
      "outputs": [
        {
          "output_type": "display_data",
          "data": {
            "text/plain": [
              "<IPython.core.display.Javascript object>"
            ],
            "application/javascript": [
              "\n",
              "  for (rule of document.styleSheets[0].cssRules){\n",
              "    if (rule.selectorText=='body') {\n",
              "      rule.style.fontSize = '24px'\n",
              "      break\n",
              "    }\n",
              "  }\n",
              "  "
            ]
          },
          "metadata": {}
        }
      ]
    },
    {
      "cell_type": "markdown",
      "source": [
        "### Carrega dados"
      ],
      "metadata": {
        "id": "8eipRtnbsVcs"
      }
    },
    {
      "cell_type": "code",
      "source": [
        "\n",
        "tabelas ={'covid_mortes':'covid_mortes.csv',\n",
        "          'covid_vacinacao':'covid_vacinacao.csv'}\n",
        "for k, v in tabelas.items():\n",
        "  df=spark.read.csv(v,header=True,inferSchema=True,sep=\",\")\n",
        "  df.createOrReplaceTempView(k)\n",
        "for tabela in tabelas.keys():\n",
        "    print(tabela)\n",
        "    spark.sql(f\"\"\"SELECT * FROM {tabela}\"\"\").show()"
      ],
      "metadata": {
        "id": "TXRTmaZgdu5k",
        "colab": {
          "base_uri": "https://localhost:8080/",
          "height": 1000
        },
        "outputId": "4cfa2f12-b7f6-4409-a79a-03cfc11c5825"
      },
      "execution_count": 7,
      "outputs": [
        {
          "output_type": "display_data",
          "data": {
            "text/plain": [
              "<IPython.core.display.Javascript object>"
            ],
            "application/javascript": [
              "\n",
              "  for (rule of document.styleSheets[0].cssRules){\n",
              "    if (rule.selectorText=='body') {\n",
              "      rule.style.fontSize = '24px'\n",
              "      break\n",
              "    }\n",
              "  }\n",
              "  "
            ]
          },
          "metadata": {}
        },
        {
          "output_type": "stream",
          "name": "stdout",
          "text": [
            "covid_mortes\n",
            "+--------+---------+-----------+--------+----------+-----------+---------+------------------+------------+----------+-------------------+-----------------------+---------------------+------------------------------+------------------------+----------------------+-------------------------------+-----------------+------------+------------------------+-------------+-------------------------+---------------------+---------------------------------+----------------------+----------------------------------+\n",
            "|iso_code|continent|   location|    date|population|total_cases|new_cases|new_cases_smoothed|total_deaths|new_deaths|new_deaths_smoothed|total_cases_per_million|new_cases_per_million|new_cases_smoothed_per_million|total_deaths_per_million|new_deaths_per_million|new_deaths_smoothed_per_million|reproduction_rate|icu_patients|icu_patients_per_million|hosp_patients|hosp_patients_per_million|weekly_icu_admissions|weekly_icu_admissions_per_million|weekly_hosp_admissions|weekly_hosp_admissions_per_million|\n",
            "+--------+---------+-----------+--------+----------+-----------+---------+------------------+------------+----------+-------------------+-----------------------+---------------------+------------------------------+------------------------+----------------------+-------------------------------+-----------------+------------+------------------------+-------------+-------------------------+---------------------+---------------------------------+----------------------+----------------------------------+\n",
            "|     AFG|     Asia|Afghanistan|24/02/20|  38928341|          1|        1|              NULL|        NULL|      NULL|               NULL|                  0.026|                0.026|                          NULL|                    NULL|                  NULL|                           NULL|             NULL|        NULL|                    NULL|         NULL|                     NULL|                 NULL|                             NULL|                  NULL|                              NULL|\n",
            "|     AFG|     Asia|Afghanistan|25/02/20|  38928341|          1|        0|              NULL|        NULL|      NULL|               NULL|                  0.026|                  0.0|                          NULL|                    NULL|                  NULL|                           NULL|             NULL|        NULL|                    NULL|         NULL|                     NULL|                 NULL|                             NULL|                  NULL|                              NULL|\n",
            "|     AFG|     Asia|Afghanistan|26/02/20|  38928341|          1|        0|              NULL|        NULL|      NULL|               NULL|                  0.026|                  0.0|                          NULL|                    NULL|                  NULL|                           NULL|             NULL|        NULL|                    NULL|         NULL|                     NULL|                 NULL|                             NULL|                  NULL|                              NULL|\n",
            "|     AFG|     Asia|Afghanistan|27/02/20|  38928341|          1|        0|              NULL|        NULL|      NULL|               NULL|                  0.026|                  0.0|                          NULL|                    NULL|                  NULL|                           NULL|             NULL|        NULL|                    NULL|         NULL|                     NULL|                 NULL|                             NULL|                  NULL|                              NULL|\n",
            "|     AFG|     Asia|Afghanistan|28/02/20|  38928341|          1|        0|              NULL|        NULL|      NULL|               NULL|                  0.026|                  0.0|                          NULL|                    NULL|                  NULL|                           NULL|             NULL|        NULL|                    NULL|         NULL|                     NULL|                 NULL|                             NULL|                  NULL|                              NULL|\n",
            "|     AFG|     Asia|Afghanistan|29/02/20|  38928341|          1|        0|             0.143|        NULL|      NULL|                0.0|                  0.026|                  0.0|                         0.004|                    NULL|                  NULL|                            0.0|             NULL|        NULL|                    NULL|         NULL|                     NULL|                 NULL|                             NULL|                  NULL|                              NULL|\n",
            "|     AFG|     Asia|Afghanistan|01/03/20|  38928341|          1|        0|             0.143|        NULL|      NULL|                0.0|                  0.026|                  0.0|                         0.004|                    NULL|                  NULL|                            0.0|             NULL|        NULL|                    NULL|         NULL|                     NULL|                 NULL|                             NULL|                  NULL|                              NULL|\n",
            "|     AFG|     Asia|Afghanistan|02/03/20|  38928341|          1|        0|               0.0|        NULL|      NULL|                0.0|                  0.026|                  0.0|                           0.0|                    NULL|                  NULL|                            0.0|             NULL|        NULL|                    NULL|         NULL|                     NULL|                 NULL|                             NULL|                  NULL|                              NULL|\n",
            "|     AFG|     Asia|Afghanistan|03/03/20|  38928341|          2|        1|             0.143|        NULL|      NULL|                0.0|                  0.051|                0.026|                         0.004|                    NULL|                  NULL|                            0.0|             NULL|        NULL|                    NULL|         NULL|                     NULL|                 NULL|                             NULL|                  NULL|                              NULL|\n",
            "|     AFG|     Asia|Afghanistan|04/03/20|  38928341|          4|        2|             0.429|        NULL|      NULL|                0.0|                  0.103|                0.051|                         0.011|                    NULL|                  NULL|                            0.0|             NULL|        NULL|                    NULL|         NULL|                     NULL|                 NULL|                             NULL|                  NULL|                              NULL|\n",
            "|     AFG|     Asia|Afghanistan|05/03/20|  38928341|          4|        0|             0.429|        NULL|      NULL|                0.0|                  0.103|                  0.0|                         0.011|                    NULL|                  NULL|                            0.0|             NULL|        NULL|                    NULL|         NULL|                     NULL|                 NULL|                             NULL|                  NULL|                              NULL|\n",
            "|     AFG|     Asia|Afghanistan|06/03/20|  38928341|          4|        0|             0.429|        NULL|      NULL|                0.0|                  0.103|                  0.0|                         0.011|                    NULL|                  NULL|                            0.0|             NULL|        NULL|                    NULL|         NULL|                     NULL|                 NULL|                             NULL|                  NULL|                              NULL|\n",
            "|     AFG|     Asia|Afghanistan|07/03/20|  38928341|          4|        0|             0.429|        NULL|      NULL|                0.0|                  0.103|                  0.0|                         0.011|                    NULL|                  NULL|                            0.0|             NULL|        NULL|                    NULL|         NULL|                     NULL|                 NULL|                             NULL|                  NULL|                              NULL|\n",
            "|     AFG|     Asia|Afghanistan|08/03/20|  38928341|          5|        1|             0.571|        NULL|      NULL|                0.0|                  0.128|                0.026|                         0.015|                    NULL|                  NULL|                            0.0|             NULL|        NULL|                    NULL|         NULL|                     NULL|                 NULL|                             NULL|                  NULL|                              NULL|\n",
            "|     AFG|     Asia|Afghanistan|09/03/20|  38928341|          7|        2|             0.857|        NULL|      NULL|                0.0|                   0.18|                0.051|                         0.022|                    NULL|                  NULL|                            0.0|             NULL|        NULL|                    NULL|         NULL|                     NULL|                 NULL|                             NULL|                  NULL|                              NULL|\n",
            "|     AFG|     Asia|Afghanistan|10/03/20|  38928341|          8|        1|             0.857|        NULL|      NULL|                0.0|                  0.206|                0.026|                         0.022|                    NULL|                  NULL|                            0.0|             NULL|        NULL|                    NULL|         NULL|                     NULL|                 NULL|                             NULL|                  NULL|                              NULL|\n",
            "|     AFG|     Asia|Afghanistan|11/03/20|  38928341|         11|        3|               1.0|        NULL|      NULL|                0.0|                  0.283|                0.077|                         0.026|                    NULL|                  NULL|                            0.0|             NULL|        NULL|                    NULL|         NULL|                     NULL|                 NULL|                             NULL|                  NULL|                              NULL|\n",
            "|     AFG|     Asia|Afghanistan|12/03/20|  38928341|         12|        1|             1.143|        NULL|      NULL|                0.0|                  0.308|                0.026|                         0.029|                    NULL|                  NULL|                            0.0|             NULL|        NULL|                    NULL|         NULL|                     NULL|                 NULL|                             NULL|                  NULL|                              NULL|\n",
            "|     AFG|     Asia|Afghanistan|13/03/20|  38928341|         13|        1|             1.286|        NULL|      NULL|                0.0|                  0.334|                0.026|                         0.033|                    NULL|                  NULL|                            0.0|             NULL|        NULL|                    NULL|         NULL|                     NULL|                 NULL|                             NULL|                  NULL|                              NULL|\n",
            "|     AFG|     Asia|Afghanistan|14/03/20|  38928341|         15|        2|             1.571|        NULL|      NULL|                0.0|                  0.385|                0.051|                          0.04|                    NULL|                  NULL|                            0.0|             NULL|        NULL|                    NULL|         NULL|                     NULL|                 NULL|                             NULL|                  NULL|                              NULL|\n",
            "+--------+---------+-----------+--------+----------+-----------+---------+------------------+------------+----------+-------------------+-----------------------+---------------------+------------------------------+------------------------+----------------------+-------------------------------+-----------------+------------+------------------------+-------------+-------------------------+---------------------+---------------------------------+----------------------+----------------------------------+\n",
            "only showing top 20 rows\n",
            "\n",
            "covid_vacinacao\n",
            "+--------+---------+-----------+--------+---------+-----------+------------------------+----------------------+------------------+-------------------------------+-------------+--------------+-----------+------------------+-----------------+-----------------------+----------------+-------------------------+------------------------------+-----------------------------+-----------------------------------+-------------------------------------+----------------+------------------+----------+-------------+-------------+--------------+---------------+---------------------+-------------------+--------------+------------+----------------------+--------------------------+---------------+-----------------------+----------------+\n",
            "|iso_code|continent|   location|    date|new_tests|total_tests|total_tests_per_thousand|new_tests_per_thousand|new_tests_smoothed|new_tests_smoothed_per_thousand|positive_rate|tests_per_case|tests_units|total_vaccinations|people_vaccinated|people_fully_vaccinated|new_vaccinations|new_vaccinations_smoothed|total_vaccinations_per_hundred|people_vaccinated_per_hundred|people_fully_vaccinated_per_hundred|new_vaccinations_smoothed_per_million|stringency_index|population_density|median_age|aged_65_older|aged_70_older|gdp_per_capita|extreme_poverty|cardiovasc_death_rate|diabetes_prevalence|female_smokers|male_smokers|handwashing_facilities|hospital_beds_per_thousand|life_expectancy|human_development_index|excess_mortality|\n",
            "+--------+---------+-----------+--------+---------+-----------+------------------------+----------------------+------------------+-------------------------------+-------------+--------------+-----------+------------------+-----------------+-----------------------+----------------+-------------------------+------------------------------+-----------------------------+-----------------------------------+-------------------------------------+----------------+------------------+----------+-------------+-------------+--------------+---------------+---------------------+-------------------+--------------+------------+----------------------+--------------------------+---------------+-----------------------+----------------+\n",
            "|     AFG|     Asia|Afghanistan|24/02/20|     NULL|       NULL|                    NULL|                  NULL|              NULL|                           NULL|         NULL|          NULL|       NULL|              NULL|             NULL|                   NULL|            NULL|                     NULL|                          NULL|                         NULL|                               NULL|                                 NULL|            8.33|            54.422|      18.6|        2.581|        1.337|      1803.987|           NULL|              597.029|               9.59|          NULL|        NULL|                37.746|                       0.5|          64.83|                  0.511|            NULL|\n",
            "|     AFG|     Asia|Afghanistan|25/02/20|     NULL|       NULL|                    NULL|                  NULL|              NULL|                           NULL|         NULL|          NULL|       NULL|              NULL|             NULL|                   NULL|            NULL|                     NULL|                          NULL|                         NULL|                               NULL|                                 NULL|            8.33|            54.422|      18.6|        2.581|        1.337|      1803.987|           NULL|              597.029|               9.59|          NULL|        NULL|                37.746|                       0.5|          64.83|                  0.511|            NULL|\n",
            "|     AFG|     Asia|Afghanistan|26/02/20|     NULL|       NULL|                    NULL|                  NULL|              NULL|                           NULL|         NULL|          NULL|       NULL|              NULL|             NULL|                   NULL|            NULL|                     NULL|                          NULL|                         NULL|                               NULL|                                 NULL|            8.33|            54.422|      18.6|        2.581|        1.337|      1803.987|           NULL|              597.029|               9.59|          NULL|        NULL|                37.746|                       0.5|          64.83|                  0.511|            NULL|\n",
            "|     AFG|     Asia|Afghanistan|27/02/20|     NULL|       NULL|                    NULL|                  NULL|              NULL|                           NULL|         NULL|          NULL|       NULL|              NULL|             NULL|                   NULL|            NULL|                     NULL|                          NULL|                         NULL|                               NULL|                                 NULL|            8.33|            54.422|      18.6|        2.581|        1.337|      1803.987|           NULL|              597.029|               9.59|          NULL|        NULL|                37.746|                       0.5|          64.83|                  0.511|            NULL|\n",
            "|     AFG|     Asia|Afghanistan|28/02/20|     NULL|       NULL|                    NULL|                  NULL|              NULL|                           NULL|         NULL|          NULL|       NULL|              NULL|             NULL|                   NULL|            NULL|                     NULL|                          NULL|                         NULL|                               NULL|                                 NULL|            8.33|            54.422|      18.6|        2.581|        1.337|      1803.987|           NULL|              597.029|               9.59|          NULL|        NULL|                37.746|                       0.5|          64.83|                  0.511|            NULL|\n",
            "|     AFG|     Asia|Afghanistan|29/02/20|     NULL|       NULL|                    NULL|                  NULL|              NULL|                           NULL|         NULL|          NULL|       NULL|              NULL|             NULL|                   NULL|            NULL|                     NULL|                          NULL|                         NULL|                               NULL|                                 NULL|            8.33|            54.422|      18.6|        2.581|        1.337|      1803.987|           NULL|              597.029|               9.59|          NULL|        NULL|                37.746|                       0.5|          64.83|                  0.511|            NULL|\n",
            "|     AFG|     Asia|Afghanistan|01/03/20|     NULL|       NULL|                    NULL|                  NULL|              NULL|                           NULL|         NULL|          NULL|       NULL|              NULL|             NULL|                   NULL|            NULL|                     NULL|                          NULL|                         NULL|                               NULL|                                 NULL|           27.78|            54.422|      18.6|        2.581|        1.337|      1803.987|           NULL|              597.029|               9.59|          NULL|        NULL|                37.746|                       0.5|          64.83|                  0.511|            NULL|\n",
            "|     AFG|     Asia|Afghanistan|02/03/20|     NULL|       NULL|                    NULL|                  NULL|              NULL|                           NULL|         NULL|          NULL|       NULL|              NULL|             NULL|                   NULL|            NULL|                     NULL|                          NULL|                         NULL|                               NULL|                                 NULL|           27.78|            54.422|      18.6|        2.581|        1.337|      1803.987|           NULL|              597.029|               9.59|          NULL|        NULL|                37.746|                       0.5|          64.83|                  0.511|            NULL|\n",
            "|     AFG|     Asia|Afghanistan|03/03/20|     NULL|       NULL|                    NULL|                  NULL|              NULL|                           NULL|         NULL|          NULL|       NULL|              NULL|             NULL|                   NULL|            NULL|                     NULL|                          NULL|                         NULL|                               NULL|                                 NULL|           27.78|            54.422|      18.6|        2.581|        1.337|      1803.987|           NULL|              597.029|               9.59|          NULL|        NULL|                37.746|                       0.5|          64.83|                  0.511|            NULL|\n",
            "|     AFG|     Asia|Afghanistan|04/03/20|     NULL|       NULL|                    NULL|                  NULL|              NULL|                           NULL|         NULL|          NULL|       NULL|              NULL|             NULL|                   NULL|            NULL|                     NULL|                          NULL|                         NULL|                               NULL|                                 NULL|           27.78|            54.422|      18.6|        2.581|        1.337|      1803.987|           NULL|              597.029|               9.59|          NULL|        NULL|                37.746|                       0.5|          64.83|                  0.511|            NULL|\n",
            "|     AFG|     Asia|Afghanistan|05/03/20|     NULL|       NULL|                    NULL|                  NULL|              NULL|                           NULL|         NULL|          NULL|       NULL|              NULL|             NULL|                   NULL|            NULL|                     NULL|                          NULL|                         NULL|                               NULL|                                 NULL|           27.78|            54.422|      18.6|        2.581|        1.337|      1803.987|           NULL|              597.029|               9.59|          NULL|        NULL|                37.746|                       0.5|          64.83|                  0.511|            NULL|\n",
            "|     AFG|     Asia|Afghanistan|06/03/20|     NULL|       NULL|                    NULL|                  NULL|              NULL|                           NULL|         NULL|          NULL|       NULL|              NULL|             NULL|                   NULL|            NULL|                     NULL|                          NULL|                         NULL|                               NULL|                                 NULL|           27.78|            54.422|      18.6|        2.581|        1.337|      1803.987|           NULL|              597.029|               9.59|          NULL|        NULL|                37.746|                       0.5|          64.83|                  0.511|            NULL|\n",
            "|     AFG|     Asia|Afghanistan|07/03/20|     NULL|       NULL|                    NULL|                  NULL|              NULL|                           NULL|         NULL|          NULL|       NULL|              NULL|             NULL|                   NULL|            NULL|                     NULL|                          NULL|                         NULL|                               NULL|                                 NULL|           27.78|            54.422|      18.6|        2.581|        1.337|      1803.987|           NULL|              597.029|               9.59|          NULL|        NULL|                37.746|                       0.5|          64.83|                  0.511|            NULL|\n",
            "|     AFG|     Asia|Afghanistan|08/03/20|     NULL|       NULL|                    NULL|                  NULL|              NULL|                           NULL|         NULL|          NULL|       NULL|              NULL|             NULL|                   NULL|            NULL|                     NULL|                          NULL|                         NULL|                               NULL|                                 NULL|           27.78|            54.422|      18.6|        2.581|        1.337|      1803.987|           NULL|              597.029|               9.59|          NULL|        NULL|                37.746|                       0.5|          64.83|                  0.511|            NULL|\n",
            "|     AFG|     Asia|Afghanistan|09/03/20|     NULL|       NULL|                    NULL|                  NULL|              NULL|                           NULL|         NULL|          NULL|       NULL|              NULL|             NULL|                   NULL|            NULL|                     NULL|                          NULL|                         NULL|                               NULL|                                 NULL|           27.78|            54.422|      18.6|        2.581|        1.337|      1803.987|           NULL|              597.029|               9.59|          NULL|        NULL|                37.746|                       0.5|          64.83|                  0.511|            NULL|\n",
            "|     AFG|     Asia|Afghanistan|10/03/20|     NULL|       NULL|                    NULL|                  NULL|              NULL|                           NULL|         NULL|          NULL|       NULL|              NULL|             NULL|                   NULL|            NULL|                     NULL|                          NULL|                         NULL|                               NULL|                                 NULL|           27.78|            54.422|      18.6|        2.581|        1.337|      1803.987|           NULL|              597.029|               9.59|          NULL|        NULL|                37.746|                       0.5|          64.83|                  0.511|            NULL|\n",
            "|     AFG|     Asia|Afghanistan|11/03/20|     NULL|       NULL|                    NULL|                  NULL|              NULL|                           NULL|         NULL|          NULL|       NULL|              NULL|             NULL|                   NULL|            NULL|                     NULL|                          NULL|                         NULL|                               NULL|                                 NULL|           27.78|            54.422|      18.6|        2.581|        1.337|      1803.987|           NULL|              597.029|               9.59|          NULL|        NULL|                37.746|                       0.5|          64.83|                  0.511|            NULL|\n",
            "|     AFG|     Asia|Afghanistan|12/03/20|     NULL|       NULL|                    NULL|                  NULL|              NULL|                           NULL|         NULL|          NULL|       NULL|              NULL|             NULL|                   NULL|            NULL|                     NULL|                          NULL|                         NULL|                               NULL|                                 NULL|           27.78|            54.422|      18.6|        2.581|        1.337|      1803.987|           NULL|              597.029|               9.59|          NULL|        NULL|                37.746|                       0.5|          64.83|                  0.511|            NULL|\n",
            "|     AFG|     Asia|Afghanistan|13/03/20|     NULL|       NULL|                    NULL|                  NULL|              NULL|                           NULL|         NULL|          NULL|       NULL|              NULL|             NULL|                   NULL|            NULL|                     NULL|                          NULL|                         NULL|                               NULL|                                 NULL|           27.78|            54.422|      18.6|        2.581|        1.337|      1803.987|           NULL|              597.029|               9.59|          NULL|        NULL|                37.746|                       0.5|          64.83|                  0.511|            NULL|\n",
            "|     AFG|     Asia|Afghanistan|14/03/20|     NULL|       NULL|                    NULL|                  NULL|              NULL|                           NULL|         NULL|          NULL|       NULL|              NULL|             NULL|                   NULL|            NULL|                     NULL|                          NULL|                         NULL|                               NULL|                                 NULL|           38.89|            54.422|      18.6|        2.581|        1.337|      1803.987|           NULL|              597.029|               9.59|          NULL|        NULL|                37.746|                       0.5|          64.83|                  0.511|            NULL|\n",
            "+--------+---------+-----------+--------+---------+-----------+------------------------+----------------------+------------------+-------------------------------+-------------+--------------+-----------+------------------+-----------------+-----------------------+----------------+-------------------------+------------------------------+-----------------------------+-----------------------------------+-------------------------------------+----------------+------------------+----------+-------------+-------------+--------------+---------------+---------------------+-------------------+--------------+------------+----------------------+--------------------------+---------------+-----------------------+----------------+\n",
            "only showing top 20 rows\n",
            "\n"
          ]
        }
      ]
    }
  ]
}